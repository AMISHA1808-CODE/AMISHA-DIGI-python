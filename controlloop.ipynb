{
 "cells": [
  {
   "cell_type": "code",
   "execution_count": 10,
   "metadata": {},
   "outputs": [],
   "source": [
    "from turtle import*\n",
    "\n",
    "speed('fast')\n",
    "bgcolor('yellow')\n",
    "pencolor('black')\n",
    "penup()\n",
    "setpos(-50,50)\n",
    "pendown()\n",
    "\n",
    "for i in range(200,0,-6):\n",
    "    forward(i)\n",
    "    left(90)\n",
    "\n",
    "penup()\n",
    "setpos(-50,-50)\n",
    "pendown()\n",
    "\n",
    "for i in range(200,0,-6):\n",
    "    forward(i)\n",
    "    left(90)\n",
    "\n",
    "penup()\n",
    "setpos(50,50)\n",
    "pendown()\n",
    "\n",
    "for i in range(200,0,-6):\n",
    "    forward(i)\n",
    "    left(90)\n",
    "    \n",
    "penup()\n",
    "setpos(50,-50)\n",
    "pendown()\n",
    "\n",
    "for i in range(200,0,-6):\n",
    "    forward(i)\n",
    "    left(90)\n",
    "\n",
    "mainloop()    "
   ]
  },
  {
   "cell_type": "code",
   "execution_count": null,
   "metadata": {},
   "outputs": [],
   "source": []
  },
  {
   "cell_type": "code",
   "execution_count": null,
   "metadata": {},
   "outputs": [],
   "source": []
  }
 ],
 "metadata": {
  "kernelspec": {
   "display_name": "Python 3.10.2 64-bit",
   "language": "python",
   "name": "python3"
  },
  "language_info": {
   "codemirror_mode": {
    "name": "ipython",
    "version": 3
   },
   "file_extension": ".py",
   "mimetype": "text/x-python",
   "name": "python",
   "nbconvert_exporter": "python",
   "pygments_lexer": "ipython3",
   "version": "3.10.2"
  },
  "orig_nbformat": 4,
  "vscode": {
   "interpreter": {
    "hash": "f2ccb58c476f33ba3e3aee7ac07234ef6b8217ef24ad64d2a7d4fed1a57c1cd2"
   }
  }
 },
 "nbformat": 4,
 "nbformat_minor": 2
}
