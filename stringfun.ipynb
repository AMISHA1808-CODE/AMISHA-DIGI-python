{
 "cells": [
  {
   "cell_type": "code",
   "execution_count": 2,
   "metadata": {},
   "outputs": [
    {
     "name": "stdout",
     "output_type": "stream",
     "text": [
      "my name is Amisha Dixit i live in lucknow\n"
     ]
    }
   ],
   "source": [
    "sttory=\"my name is Amisha Dixit i live in lucknow\"\n",
    "print(sttory)"
   ]
  },
  {
   "cell_type": "code",
   "execution_count": 6,
   "metadata": {},
   "outputs": [
    {
     "name": "stdout",
     "output_type": "stream",
     "text": [
      "a 3\n",
      "e 2\n",
      "i 7\n",
      "o 1\n",
      "u 1\n"
     ]
    }
   ],
   "source": [
    "for char in \"aeiou\":\n",
    "    print(char,sttory.lower().count(char))"
   ]
  },
  {
   "cell_type": "code",
   "execution_count": 9,
   "metadata": {},
   "outputs": [
    {
     "name": "stdout",
     "output_type": "stream",
     "text": [
      "2 4 6 8 10 12 14 16 18 20 "
     ]
    }
   ],
   "source": [
    "for i in range(1,11):\n",
    " print(2*i,end=' ')"
   ]
  },
  {
   "cell_type": "code",
   "execution_count": 15,
   "metadata": {},
   "outputs": [
    {
     "name": "stdout",
     "output_type": "stream",
     "text": [
      "1 2 2 3 3 3 4 4 4 4 5 5 5 5 5 6 6 6 6 6 6 7 7 7 7 7 7 7 8 8 8 8 8 8 8 8 9 9 9 9 9 9 9 9 9 10 10 10 10 10 10 10 10 10 10 "
     ]
    }
   ],
   "source": [
    "rows = 11\n",
    "for num in range(rows):\n",
    "    for i in range(num):\n",
    "        print(num, end=\" \")\n"
   ]
  },
  {
   "cell_type": "code",
   "execution_count": 23,
   "metadata": {},
   "outputs": [
    {
     "name": "stdout",
     "output_type": "stream",
     "text": [
      "1\t2\t3\t4\t5\t\n",
      "\n",
      "2\t4\t6\t8\t10\t\n",
      "\n",
      "3\t6\t9\t12\t15\t\n",
      "\n",
      "4\t8\t12\t16\t20\t\n",
      "\n",
      "5\t10\t15\t20\t25\t\n",
      "\n"
     ]
    }
   ],
   "source": [
    "for i in range(1,6):\n",
    "    for j in range(1,6):\n",
    "        print(i*j, end=\"\\t\")\n",
    "    print(\"\\n\")\n"
   ]
  },
  {
   "cell_type": "code",
   "execution_count": 26,
   "metadata": {},
   "outputs": [
    {
     "name": "stdout",
     "output_type": "stream",
     "text": [
      "1\t\n",
      "\n",
      "2\t4\t\n",
      "\n",
      "3\t6\t9\t\n",
      "\n",
      "4\t8\t12\t16\t\n",
      "\n",
      "5\t10\t15\t20\t25\t\n",
      "\n",
      "6\t12\t18\t24\t30\t36\t\n",
      "\n"
     ]
    }
   ],
   "source": [
    "n=7\n",
    "for i in range(1,n):\n",
    "    for j in range(1,i+1):\n",
    "        print(i*j, end=\"\\t\")\n",
    "    print(\"\\n\")\n",
    "    "
   ]
  },
  {
   "cell_type": "code",
   "execution_count": 12,
   "metadata": {},
   "outputs": [],
   "source": [
    "n=7\n",
    "for i in range(1,n):\n",
    "    print(i*\"i\")    "
   ]
  },
  {
   "cell_type": "code",
   "execution_count": 6,
   "metadata": {},
   "outputs": [
    {
     "name": "stdout",
     "output_type": "stream",
     "text": [
      " * \n",
      " *  * \n",
      " *  *  * \n",
      " *  *  *  * \n",
      " *  *  *  *  * \n",
      " *  *  *  *  *  * \n"
     ]
    }
   ],
   "source": [
    "n=7\n",
    "for i in range(1,n):\n",
    " print(i* \" * \")\n",
    "  "
   ]
  },
  {
   "cell_type": "code",
   "execution_count": 3,
   "metadata": {},
   "outputs": [
    {
     "name": "stdout",
     "output_type": "stream",
     "text": [
      "1\t\n",
      "\n",
      "1\t2\t\n",
      "\n",
      "1\t2\t3\t\n",
      "\n",
      "1\t2\t3\t4\t\n",
      "\n",
      "1\t2\t3\t4\t5\t\n",
      "\n",
      "1\t2\t3\t4\t5\t6\t\n",
      "\n",
      "1\t2\t3\t4\t5\t6\t7\t\n",
      "\n"
     ]
    }
   ],
   "source": [
    "n=int(input(\"enter the number of rows :\"))\n",
    "for i in range(n):\n",
    "    for j in range(i+1):\n",
    "        print(j+1, end=\"\\t\")\n",
    "    print(\"\\n\")"
   ]
  },
  {
   "cell_type": "code",
   "execution_count": null,
   "metadata": {},
   "outputs": [],
   "source": []
  }
 ],
 "metadata": {
  "kernelspec": {
   "display_name": "Python 3.9.12 ('base')",
   "language": "python",
   "name": "python3"
  },
  "language_info": {
   "codemirror_mode": {
    "name": "ipython",
    "version": 3
   },
   "file_extension": ".py",
   "mimetype": "text/x-python",
   "name": "python",
   "nbconvert_exporter": "python",
   "pygments_lexer": "ipython3",
   "version": "3.9.12"
  },
  "orig_nbformat": 4,
  "vscode": {
   "interpreter": {
    "hash": "7679c2132d3f6ce38c9df14d554b39c06862b36a4e6689c81f9ae15bd0911d7d"
   }
  }
 },
 "nbformat": 4,
 "nbformat_minor": 2
}
