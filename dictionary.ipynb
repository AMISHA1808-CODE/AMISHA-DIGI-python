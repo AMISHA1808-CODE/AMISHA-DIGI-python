{
 "cells": [
  {
   "cell_type": "code",
   "execution_count": 27,
   "metadata": {},
   "outputs": [
    {
     "name": "stdout",
     "output_type": "stream",
     "text": [
      "{'Alan': 30, 'Adya': 40, 'Simran': 50, 'Rita': 60}\n"
     ]
    }
   ],
   "source": [
    "marks={'Alan':30,'Adya':40,'Simran':50,'Rita':60}\n",
    "print(marks)"
   ]
  },
  {
   "cell_type": "code",
   "execution_count": 28,
   "metadata": {},
   "outputs": [
    {
     "data": {
      "text/plain": [
       "40"
      ]
     },
     "execution_count": 28,
     "metadata": {},
     "output_type": "execute_result"
    }
   ],
   "source": [
    "marks['Adya']"
   ]
  },
  {
   "cell_type": "code",
   "execution_count": 29,
   "metadata": {},
   "outputs": [
    {
     "name": "stdout",
     "output_type": "stream",
     "text": [
      "the new marks of alan is 60\n"
     ]
    }
   ],
   "source": [
    "marks['Alan']=60\n",
    "print('the new marks of alan is',marks['Alan'])"
   ]
  },
  {
   "cell_type": "code",
   "execution_count": 30,
   "metadata": {},
   "outputs": [
    {
     "data": {
      "text/plain": [
       "110"
      ]
     },
     "execution_count": 30,
     "metadata": {},
     "output_type": "execute_result"
    }
   ],
   "source": [
    "marks['Alan']+50"
   ]
  },
  {
   "cell_type": "code",
   "execution_count": 31,
   "metadata": {},
   "outputs": [],
   "source": [
    "marks_dic= {\n",
    "'student1':\n",
    "    {'name':'Alia',\n",
    "    'cgpa':5.6},\n",
    "'student2':\n",
    "    {'name':'Simran',\n",
    "    'cgpa':7.8} ,\n",
    "'student3' :\n",
    "     {'name':'Boby',\n",
    "     'cgpa':9.8}   \n",
    "}"
   ]
  },
  {
   "cell_type": "code",
   "execution_count": 32,
   "metadata": {},
   "outputs": [
    {
     "name": "stdout",
     "output_type": "stream",
     "text": [
      "Alia\n"
     ]
    }
   ],
   "source": [
    "print(marks_dic['student1']['name'])"
   ]
  },
  {
   "cell_type": "code",
   "execution_count": 33,
   "metadata": {},
   "outputs": [
    {
     "name": "stdout",
     "output_type": "stream",
     "text": [
      "{'name': 'Alia', 'cgpa': 5.6}\n"
     ]
    }
   ],
   "source": [
    "print(marks_dic.get('student1'))"
   ]
  },
  {
   "cell_type": "code",
   "execution_count": 34,
   "metadata": {},
   "outputs": [
    {
     "name": "stdout",
     "output_type": "stream",
     "text": [
      "5.6\n"
     ]
    }
   ],
   "source": [
    "print(marks_dic.get('student1').get('cgpa'))\n"
   ]
  },
  {
   "cell_type": "code",
   "execution_count": 35,
   "metadata": {},
   "outputs": [
    {
     "name": "stdout",
     "output_type": "stream",
     "text": [
      "None\n"
     ]
    }
   ],
   "source": [
    "print(marks_dic.get('student4'))"
   ]
  },
  {
   "cell_type": "code",
   "execution_count": 36,
   "metadata": {},
   "outputs": [
    {
     "name": "stdout",
     "output_type": "stream",
     "text": [
      "5.6\n"
     ]
    }
   ],
   "source": [
    "print(marks_dic['student1']['cgpa'])"
   ]
  },
  {
   "cell_type": "code",
   "execution_count": 37,
   "metadata": {},
   "outputs": [],
   "source": [
    "squares={1:8,2:9,3:5,4:7,6:3}\n"
   ]
  },
  {
   "cell_type": "code",
   "execution_count": 38,
   "metadata": {},
   "outputs": [
    {
     "name": "stdout",
     "output_type": "stream",
     "text": [
      "1\n",
      "2\n",
      "3\n",
      "4\n",
      "6\n"
     ]
    }
   ],
   "source": [
    "\n",
    "for i in squares:\n",
    "    print(i)"
   ]
  },
  {
   "cell_type": "code",
   "execution_count": 39,
   "metadata": {},
   "outputs": [
    {
     "name": "stdout",
     "output_type": "stream",
     "text": [
      "8\n",
      "9\n",
      "5\n",
      "7\n",
      "3\n"
     ]
    }
   ],
   "source": [
    "    for i in squares:\n",
    "        print(squares[i])"
   ]
  },
  {
   "cell_type": "code",
   "execution_count": 40,
   "metadata": {},
   "outputs": [
    {
     "name": "stdout",
     "output_type": "stream",
     "text": [
      "7\n"
     ]
    }
   ],
   "source": [
    "print(squares.pop(4))"
   ]
  },
  {
   "cell_type": "code",
   "execution_count": 41,
   "metadata": {},
   "outputs": [
    {
     "name": "stdout",
     "output_type": "stream",
     "text": [
      "(6, 3)\n"
     ]
    }
   ],
   "source": [
    "print(squares.popitem())"
   ]
  },
  {
   "cell_type": "code",
   "execution_count": 42,
   "metadata": {},
   "outputs": [],
   "source": [
    "MOVIES={\n",
    "    'INCEPTION':{\n",
    "        'YEAR':2010,\n",
    "        'RATING':8.8,\n",
    "    },\n",
    "    'THE DARKER KNIGHT':{\n",
    "        'YEAR':2008,\n",
    "        'RATING':9.0\n",
    "    }\n",
    "}"
   ]
  },
  {
   "cell_type": "code",
   "execution_count": 43,
   "metadata": {},
   "outputs": [
    {
     "data": {
      "text/plain": [
       "9.0"
      ]
     },
     "execution_count": 43,
     "metadata": {},
     "output_type": "execute_result"
    }
   ],
   "source": [
    "MOVIES.get('THE DARKER KNIGHT').get('RATING')"
   ]
  },
  {
   "cell_type": "code",
   "execution_count": 44,
   "metadata": {},
   "outputs": [],
   "source": [
    "marks.update({'Grace':40,'Bony':70,'Eyda':60})"
   ]
  },
  {
   "cell_type": "code",
   "execution_count": 45,
   "metadata": {},
   "outputs": [
    {
     "name": "stdout",
     "output_type": "stream",
     "text": [
      "{'Alan': 60, 'Adya': 40, 'Simran': 50, 'Rita': 60, 'Grace': 40, 'Bony': 70, 'Eyda': 60}\n"
     ]
    }
   ],
   "source": [
    "print(marks)"
   ]
  },
  {
   "cell_type": "code",
   "execution_count": 46,
   "metadata": {},
   "outputs": [
    {
     "name": "stdout",
     "output_type": "stream",
     "text": [
      "{'Alan': 60, 'Adya': 40, 'Simran': 50, 'Rita': 60, 'Bony': 70, 'Eyda': 60}\n"
     ]
    }
   ],
   "source": [
    "marks.pop('Grace')\n",
    "print(marks)"
   ]
  },
  {
   "cell_type": "code",
   "execution_count": 47,
   "metadata": {},
   "outputs": [
    {
     "name": "stdout",
     "output_type": "stream",
     "text": [
      "{'Adya': 40, 'Simran': 50, 'Rita': 60, 'Bony': 70, 'Eyda': 60}\n",
      "60\n"
     ]
    }
   ],
   "source": [
    "item_data_was_removed=marks.pop('Alan')\n",
    "print(marks)\n",
    "print(item_data_was_removed)"
   ]
  },
  {
   "cell_type": "code",
   "execution_count": 52,
   "metadata": {},
   "outputs": [
    {
     "data": {
      "text/plain": [
       "40"
      ]
     },
     "execution_count": 52,
     "metadata": {},
     "output_type": "execute_result"
    }
   ],
   "source": [
    "marks.get('Adya')\n"
   ]
  },
  {
   "cell_type": "code",
   "execution_count": 53,
   "metadata": {},
   "outputs": [
    {
     "data": {
      "text/plain": [
       "50"
      ]
     },
     "execution_count": 53,
     "metadata": {},
     "output_type": "execute_result"
    }
   ],
   "source": [
    "marks.get('Simran')"
   ]
  },
  {
   "cell_type": "code",
   "execution_count": 54,
   "metadata": {},
   "outputs": [],
   "source": [
    "x=[23,45,67,45,23]\n",
    "x2=[]\n"
   ]
  },
  {
   "cell_type": "code",
   "execution_count": 59,
   "metadata": {},
   "outputs": [
    {
     "name": "stdout",
     "output_type": "stream",
     "text": [
      "[23, 45, 67, 45, 23]\n",
      "[529]\n"
     ]
    }
   ],
   "source": [
    "for i in x:\n",
    " sqr =i**2\n",
    "x2.append(sqr)\n",
    "print(x)\n",
    "print(x2)"
   ]
  },
  {
   "cell_type": "code",
   "execution_count": 60,
   "metadata": {},
   "outputs": [
    {
     "name": "stdout",
     "output_type": "stream",
     "text": [
      "[529, 2025, 4489, 2025, 529]\n"
     ]
    }
   ],
   "source": [
    "#how to append directly\n",
    "#comprehension- when u want to create a list from othe list\n",
    "# newlist=[operation loop condition]\n",
    "x3=[i**2 for i in x]\n",
    "print(x3)"
   ]
  },
  {
   "cell_type": "code",
   "execution_count": 63,
   "metadata": {},
   "outputs": [
    {
     "name": "stdout",
     "output_type": "stream",
     "text": [
      "[2, 4, 6, 8]\n",
      "[2, 3, 1, 4, 5, 6, 8, 5, 7] [2, 4, 6, 8]\n"
     ]
    }
   ],
   "source": [
    "a=[2,3,1,4,5,6,8,5,7]\n",
    "even_no=[i for i in a if i%2==0]\n",
    "odd_no=[i for i in a if i%2!=0]\n",
    "print(even_no)\n",
    "print(a,even_no)\n"
   ]
  },
  {
   "cell_type": "code",
   "execution_count": 2,
   "metadata": {},
   "outputs": [
    {
     "name": "stdout",
     "output_type": "stream",
     "text": [
      "[True, False, False, True, False, True, True, False, False]\n"
     ]
    }
   ],
   "source": [
    "a=[2,3,1,4,5,6,8,5,7]\n",
    "ev_no=[i%2==0 for i in a]\n",
    "print(ev_no)"
   ]
  },
  {
   "cell_type": "code",
   "execution_count": 64,
   "metadata": {},
   "outputs": [
    {
     "name": "stdout",
     "output_type": "stream",
     "text": [
      "[2, 4, 6, 8] [3, 1, 5, 5, 7]\n"
     ]
    }
   ],
   "source": [
    "a=[2,3,1,4,5,6,8,5,7]\n",
    "even_no=[i for i in a if i%2==0]\n",
    "odd_no=[i for i in a if i%2!=0]\n",
    "print(even_no,odd_no)"
   ]
  },
  {
   "cell_type": "code",
   "execution_count": 13,
   "metadata": {},
   "outputs": [
    {
     "name": "stdout",
     "output_type": "stream",
     "text": [
      "['n', 'i', 'a', 't']\n"
     ]
    }
   ],
   "source": [
    "name=['Stayam Maan','Alia Tiwari','Sona Sherma','Srhisti Dixit']\n",
    "initial_names=[f'{n.split()[-1][-1]}'for n in name]\n",
    "print(initial_names)\n"
   ]
  },
  {
   "cell_type": "markdown",
   "metadata": {},
   "source": [
    "ayush = 01234\n",
    "my name is ayush mishra 0 1 2 3 4"
   ]
  }
 ],
 "metadata": {
  "kernelspec": {
   "display_name": "Python 3.10.2 64-bit",
   "language": "python",
   "name": "python3"
  },
  "language_info": {
   "codemirror_mode": {
    "name": "ipython",
    "version": 3
   },
   "file_extension": ".py",
   "mimetype": "text/x-python",
   "name": "python",
   "nbconvert_exporter": "python",
   "pygments_lexer": "ipython3",
   "version": "3.10.2"
  },
  "orig_nbformat": 4,
  "vscode": {
   "interpreter": {
    "hash": "f2ccb58c476f33ba3e3aee7ac07234ef6b8217ef24ad64d2a7d4fed1a57c1cd2"
   }
  }
 },
 "nbformat": 4,
 "nbformat_minor": 2
}
