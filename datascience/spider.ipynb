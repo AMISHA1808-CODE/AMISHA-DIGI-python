{
 "cells": [
  {
   "cell_type": "code",
   "execution_count": 2,
   "metadata": {},
   "outputs": [],
   "source": [
    "from dputils import scrape as sc"
   ]
  },
  {
   "cell_type": "code",
   "execution_count": 3,
   "metadata": {},
   "outputs": [
    {
     "name": "stderr",
     "output_type": "stream",
     "text": [
      "Error occurred during loading data. Trying to use cache server https://fake-useragent.herokuapp.com/browsers/0.1.11\n",
      "Traceback (most recent call last):\n",
      "  File \"c:\\Users\\LENOVO\\anaconda3\\lib\\site-packages\\fake_useragent\\utils.py\", line 154, in load\n",
      "    for item in get_browsers(verify_ssl=verify_ssl):\n",
      "  File \"c:\\Users\\LENOVO\\anaconda3\\lib\\site-packages\\fake_useragent\\utils.py\", line 99, in get_browsers\n",
      "    html = html.split('<table class=\"w3-table-all notranslate\">')[1]\n",
      "IndexError: list index out of range\n"
     ]
    }
   ],
   "source": [
    "url='https://www.amazon.in/s?k=mobile+phone&crid=1MLGGC2XQFGRH&sprefix=mob%2Caps%2C250&ref=nb_sb_ss_softlines-tsdoa-contextual-iss_2_3'\n",
    "soup=sc.get_webpage_data(url)"
   ]
  },
  {
   "cell_type": "code",
   "execution_count": 4,
   "metadata": {},
   "outputs": [
    {
     "data": {
      "text/plain": [
       "<title>Amazon.in : mobile phone</title>"
      ]
     },
     "execution_count": 4,
     "metadata": {},
     "output_type": "execute_result"
    }
   ],
   "source": [
    "soup.find('title')#everthing is working fine"
   ]
  },
  {
   "cell_type": "code",
   "execution_count": 5,
   "metadata": {},
   "outputs": [],
   "source": [
    "target= {\n",
    "    'tag':'div',\n",
    "    'attrs':{'class':'s-main-slot s-result-list s-search-results sg-row'}\n",
    "}"
   ]
  },
  {
   "cell_type": "code",
   "execution_count": 6,
   "metadata": {},
   "outputs": [],
   "source": [
    "items={\n",
    "    'tag':'div',\n",
    "    'attrs':{\n",
    "        'class':'s-result-item'\n",
    "\n",
    "    }\n",
    "}\n",
    "#item that we want frim each item\n",
    "title={\n",
    "    'tag':'h2',\n",
    "    'attrs':{\n",
    "        'class':'a-size-mini a-spacing-none a-color-base s-line-clamp-2'\n",
    "    }\n",
    "}\n",
    "price=  {\n",
    "    'tag':'span',\n",
    "    'attrs':{  \n",
    "        'class':'a-price-whole'\n",
    "    }\n",
    "}\n"
   ]
  },
  {
   "cell_type": "code",
   "execution_count": 7,
   "metadata": {},
   "outputs": [
    {
     "name": "stdout",
     "output_type": "stream",
     "text": [
      "31 items found\n",
      "Item skipped at index: 0\n",
      "Item skipped at index: 1\n",
      "Item skipped at index: 8\n",
      "Item skipped at index: 18\n",
      "Item skipped at index: 27\n",
      "Item skipped at index: 28\n",
      "Item skipped at index: 29\n",
      "Item skipped at index: 30\n",
      "All items extracted\n"
     ]
    }
   ],
   "source": [
    "output = sc.extract_many(soup,\n",
    "                        target=target,\n",
    "                        items=items,\n",
    "                        title=title,\n",
    "                        price=price)\n",
    "\n",
    "                         \n",
    "\n"
   ]
  },
  {
   "cell_type": "code",
   "execution_count": 8,
   "metadata": {},
   "outputs": [
    {
     "name": "stdout",
     "output_type": "stream",
     "text": [
      "[{'price': '18,999',\n",
      "  'title': 'Samsung Galaxy M33 5G (Mystique Green, 6GB, 128GB Storage) | '\n",
      "           '6000mAh Battery | Upto 12GB RAM with RAM Plus | Travel Adapter to '\n",
      "           'be Purchased Separately'},\n",
      " {'price': '1,67,998',\n",
      "  'title': 'Samsung Galaxy Z Fold4 5G (Beige, 12GB RAM, 512GB Storage) + '\n",
      "           'Galaxy Watch4 Classic Bluetooth (46mm, Black)'},\n",
      " {'price': '14,990',\n",
      "  'title': 'OPPO A74 5G (Fluid Black, 6GB RAM, 128GB Storage) with No Cost '\n",
      "           'EMI/Additional Exchange Offers'},\n",
      " {'price': '11,990',\n",
      "  'title': 'Oppo A54 (Starry Blue, 6GB RAM, 128GB Storage) with No Cost EMI & '\n",
      "           'Additional Exchange Offers'},\n",
      " {'price': '18,999',\n",
      "  'title': 'OnePlus Nord CE 2 Lite 5G (Black Dusk, 6GB RAM, 128GB Storage)'},\n",
      " {'price': '14,990',\n",
      "  'title': 'Redmi Note 9 Pro (Interstellar Black, 4GB RAM, 64GB Storage)- '\n",
      "           'Latest 8nm Snapdragon 720G & Alexa Hands-Free Capable'},\n",
      " {'price': '6,999',\n",
      "  'title': 'Redmi 9A Sport (Coral Green, 2GB RAM, 32GB Storage) | 2GHz '\n",
      "           'Octa-core Helio G25 Processor | 5000 mAh Battery'},\n",
      " {'price': '11,990',\n",
      "  'title': 'OPPO A31 (Mystery Black, 6GB RAM, 128GB Storage) with No Cost '\n",
      "           'EMI/Additional Exchange Offers'},\n",
      " {'price': '8,999',\n",
      "  'title': 'Redmi 9 Activ (Metallic Purple, 4GB RAM, 64GB Storage)'},\n",
      " {'price': '9,990',\n",
      "  'title': 'OPPO A15s (Fancy White, 4GB RAM, 64GB Storage) with No Cost '\n",
      "           'EMI/Additional Exchange Offers'},\n",
      " {'price': '13,999',\n",
      "  'title': 'Redmi 10 Prime (Phantom Black 6GB RAM 128GB ROM |Helio G88 with '\n",
      "           'extendable RAM Upto 2GB |FHD+ 90Hz Adaptive Sync Display)'},\n",
      " {'price': '92,998',\n",
      "  'title': 'Samsung Galaxy Z Flip4 5G (Pink Gold, 8GB RAM, 128GB Storage) + '\n",
      "           'Galaxy Watch4 Classic Bluetooth(42mm, Silver)'},\n",
      " {'price': '5,499',\n",
      "  'title': 'I KALL Z9 4G Smartphone (3GB, 32GB, Android 10) (Green)'},\n",
      " {'price': '11,999',\n",
      "  'title': 'Redmi Note 10T 5G (Mint Green, 4GB RAM, 64GB Storage) | Dual5G | '\n",
      "           '90Hz Adaptive Refresh Rate | MediaTek Dimensity 700 7nm Processor '\n",
      "           '| 22.5W Charger Included'},\n",
      " {'price': '11,999',\n",
      "  'title': 'Redmi Note 10T 5G (Metallic Blue, 4GB RAM, 64GB Storage) | Dual 5G '\n",
      "           '| 90Hz Adaptive Refresh Rate | MediaTek Dimensity 700 7nm '\n",
      "           'Processor | 22.5W Charger Included'},\n",
      " {'price': '14,990',\n",
      "  'title': 'OPPO A74 5G (Fantastic Purple,6GB RAM,128GB Storage) with No Cost '\n",
      "           'EMI/Additional Exchange Offers'},\n",
      " {'price': '8,999',\n",
      "  'title': 'realme narzo 50i (Carbon Black, 4GB RAM+64GB Storage) - 6.5\" inch '\n",
      "           'Large Display | 5000mAh Battery'},\n",
      " {'price': '6,999',\n",
      "  'title': 'Redmi 9A Sport (Metallic Blue, 2GB RAM, 32GB Storage) | 2GHz '\n",
      "           'Octa-core Helio G25 Processor | 5000 mAh Battery'},\n",
      " {'price': '11,999',\n",
      "  'title': 'Samsung Galaxy M13 (Midnight Blue, 4GB, 64GB Storage) | 6000mAh '\n",
      "           'Battery | Upto 8GB RAM with RAM Plus'},\n",
      " {'price': '8,999',\n",
      "  'title': 'Redmi 9 Activ (Carbon Black, 4GB RAM, 64GB Storage)'},\n",
      " {'price': '6,999',\n",
      "  'title': 'Redmi 9A Sport (Carbon Black, 2GB RAM, 32GB Storage) | 2GHz '\n",
      "           'Octa-core Helio G25 Processor | 5000 mAh Battery'},\n",
      " {'price': '6,999',\n",
      "  'title': 'I KALL K401 Smartphone (4GB, 64GB) (4G Volte, Android 10) (Green)'},\n",
      " {'price': '6,999', 'title': 'I KALL K475 Smartphone (4GB, 64GB) (Gold)'}]\n"
     ]
    }
   ],
   "source": [
    "from pprint import pprint\n",
    "pprint(output)"
   ]
  },
  {
   "cell_type": "code",
   "execution_count": null,
   "metadata": {},
   "outputs": [],
   "source": []
  }
 ],
 "metadata": {
  "kernelspec": {
   "display_name": "Python 3.9.12 ('base')",
   "language": "python",
   "name": "python3"
  },
  "language_info": {
   "codemirror_mode": {
    "name": "ipython",
    "version": 3
   },
   "file_extension": ".py",
   "mimetype": "text/x-python",
   "name": "python",
   "nbconvert_exporter": "python",
   "pygments_lexer": "ipython3",
   "version": "3.9.12"
  },
  "orig_nbformat": 4,
  "vscode": {
   "interpreter": {
    "hash": "7679c2132d3f6ce38c9df14d554b39c06862b36a4e6689c81f9ae15bd0911d7d"
   }
  }
 },
 "nbformat": 4,
 "nbformat_minor": 2
}
