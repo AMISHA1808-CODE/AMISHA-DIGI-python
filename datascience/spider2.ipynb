{
 "cells": [
  {
   "cell_type": "code",
   "execution_count": 4,
   "metadata": {},
   "outputs": [
    {
     "name": "stdout",
     "output_type": "stream",
     "text": [
      "https://www.flipkart.com/search?q=laptop\n"
     ]
    }
   ],
   "source": [
    "query='laptop'\n",
    "url=f\"https://www.flipkart.com/search?q={query}\"\n",
    "print(url)\n"
   ]
  },
  {
   "cell_type": "code",
   "execution_count": 5,
   "metadata": {},
   "outputs": [],
   "source": [
    "from dputils import scrape as sc"
   ]
  },
  {
   "cell_type": "code",
   "execution_count": 6,
   "metadata": {},
   "outputs": [],
   "source": [
    "#settings to extract data\n",
    "#tag\n",
    "#attrs#should be dict\n",
    "#output\n",
    "\n",
    "target={'tag':'div','attrs':{'class':'_1YokD2 _3Mn1Gg'}}\n",
    "items={'tag':'div','attrs':{'class':'_1AtVbE col-12-12'}}\n",
    "title={'tag':'div','attrs':{'class':'_4rR01T'}}\n",
    "price={'tag':'div','attrs':{'class':'_30jeq3 _1_WHN1'}}\n",
    "rr={'tag':'div','attrs':{'class':'_2_R_DZ'}}\n",
    "link={'tag':'div','attrs':{'class':'_1fQZEk'},'output':'href'}\n",
    "img_link={'tag':'div','attrs':{'class':'_396cs4 _3exPp9'},'output':'src'}\n",
    "details={'tag':'div','attrs':{'class':'_1xgFaf'}}\n"
   ]
  },
  {
   "cell_type": "code",
   "execution_count": 7,
   "metadata": {},
   "outputs": [
    {
     "name": "stdout",
     "output_type": "stream",
     "text": [
      "26 items found\n",
      "Item skipped at index: 0\n",
      "Item skipped at index: 1\n",
      "Item skipped at index: 2\n",
      "Item skipped at index: 3\n",
      "Item skipped at index: 4\n",
      "Item skipped at index: 5\n",
      "Item skipped at index: 6\n",
      "Item skipped at index: 7\n",
      "Item skipped at index: 8\n",
      "Item skipped at index: 9\n",
      "Item skipped at index: 10\n",
      "Item skipped at index: 11\n",
      "Item skipped at index: 12\n",
      "Item skipped at index: 13\n",
      "Item skipped at index: 14\n",
      "Item skipped at index: 15\n",
      "Item skipped at index: 16\n",
      "Item skipped at index: 17\n",
      "Item skipped at index: 18\n",
      "Item skipped at index: 19\n",
      "Item skipped at index: 20\n",
      "Item skipped at index: 21\n",
      "Item skipped at index: 22\n",
      "Item skipped at index: 23\n",
      "Item skipped at index: 24\n",
      "Item skipped at index: 25\n",
      "All items extracted\n"
     ]
    }
   ],
   "source": [
    "soup=sc.get_webpage_data(url)\n",
    "output=sc.extract_many(soup,\n",
    "                target=target,items=items,\n",
    "                title= title,price=price,\n",
    "                rr=rr,link=link,\n",
    "                img_link=img_link,details=details)\n",
    "               "
   ]
  }
 ],
 "metadata": {
  "kernelspec": {
   "display_name": "Python 3.9.12 ('base')",
   "language": "python",
   "name": "python3"
  },
  "language_info": {
   "codemirror_mode": {
    "name": "ipython",
    "version": 3
   },
   "file_extension": ".py",
   "mimetype": "text/x-python",
   "name": "python",
   "nbconvert_exporter": "python",
   "pygments_lexer": "ipython3",
   "version": "3.9.12"
  },
  "orig_nbformat": 4,
  "vscode": {
   "interpreter": {
    "hash": "7679c2132d3f6ce38c9df14d554b39c06862b36a4e6689c81f9ae15bd0911d7d"
   }
  }
 },
 "nbformat": 4,
 "nbformat_minor": 2
}
