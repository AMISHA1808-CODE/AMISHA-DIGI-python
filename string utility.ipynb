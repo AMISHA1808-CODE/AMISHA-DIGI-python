{
 "cells": [
  {
   "cell_type": "code",
   "execution_count": 1,
   "metadata": {},
   "outputs": [
    {
     "data": {
      "text/plain": [
       "'happy sad angry tired lonely sleepy'"
      ]
     },
     "execution_count": 1,
     "metadata": {},
     "output_type": "execute_result"
    }
   ],
   "source": [
    "wordlist=['happy','sad','angry','tired','lonely','sleepy']\n",
    "\" \".join(wordlist)"
   ]
  },
  {
   "cell_type": "code",
   "execution_count": 40,
   "metadata": {},
   "outputs": [
    {
     "name": "stdout",
     "output_type": "stream",
     "text": [
      "once upon a time there was a town named Shankarpur ,once upon a town\n"
     ]
    }
   ],
   "source": [
    "story='once upon a time there was a town named Shankarpur ,once upon a town'\n",
    "print(story)"
   ]
  },
  {
   "cell_type": "code",
   "execution_count": 2,
   "metadata": {},
   "outputs": [],
   "source": [
    "wordlist=['happy','sad','angry','tired','lonely','sleepy']\n",
    "wordliststr=\" \".join(wordlist)"
   ]
  },
  {
   "cell_type": "code",
   "execution_count": 4,
   "metadata": {},
   "outputs": [
    {
     "name": "stdout",
     "output_type": "stream",
     "text": [
      "emotions are happy sad angry tired lonely sleepy\n"
     ]
    }
   ],
   "source": [
    "wordlist=['happy','sad','angry','tired','lonely','sleepy']\n",
    "print(f'emotions are {\" \".join(wordlist)}')"
   ]
  },
  {
   "cell_type": "code",
   "execution_count": 38,
   "metadata": {},
   "outputs": [
    {
     "data": {
      "text/plain": [
       "1"
      ]
     },
     "execution_count": 38,
     "metadata": {},
     "output_type": "execute_result"
    }
   ],
   "source": [
    "story='once upon a time there was a village named Shankarpur ,one day'\n",
    "story.count('he')"
   ]
  },
  {
   "cell_type": "code",
   "execution_count": 6,
   "metadata": {},
   "outputs": [
    {
     "data": {
      "text/plain": [
       "3"
      ]
     },
     "execution_count": 6,
     "metadata": {},
     "output_type": "execute_result"
    }
   ],
   "source": [
    "story='once upon a time there was a village named Shankarpur ,one day'\n",
    "story.count('on')"
   ]
  },
  {
   "cell_type": "code",
   "execution_count": null,
   "metadata": {},
   "outputs": [],
   "source": [
    "print('a:',story)"
   ]
  },
  {
   "cell_type": "code",
   "execution_count": 7,
   "metadata": {},
   "outputs": [
    {
     "name": "stdout",
     "output_type": "stream",
     "text": [
      "a : 8\n",
      "e : 7\n",
      "i : 2\n",
      "o : 3\n",
      "u : 2\n"
     ]
    }
   ],
   "source": [
    "for char in \"aeiou\":\n",
    "    print(char,':',story.lower().count(char))"
   ]
  },
  {
   "cell_type": "code",
   "execution_count": 9,
   "metadata": {},
   "outputs": [
    {
     "name": "stdout",
     "output_type": "stream",
     "text": [
      "a : 8\n",
      "b : 0\n",
      "c : 1\n",
      "d : 2\n",
      "e : 7\n",
      "f : 0\n",
      "g : 1\n",
      "h : 2\n",
      "i : 2\n",
      "j : 0\n",
      "k : 1\n",
      "l : 2\n",
      "m : 2\n",
      "n : 5\n",
      "o : 3\n",
      "p : 2\n",
      "q : 0\n",
      "r : 3\n",
      "s : 2\n",
      "t : 2\n",
      "u : 2\n",
      "v : 1\n",
      "w : 1\n",
      "x : 0\n",
      "y : 1\n",
      "z : 0\n"
     ]
    }
   ],
   "source": [
    "#count all alphabets in string\n",
    "from string import ascii_lowercase\n",
    "for char in ascii_lowercase:\n",
    "    print(char,':',story.lower().count(char))"
   ]
  },
  {
   "cell_type": "code",
   "execution_count": 10,
   "metadata": {},
   "outputs": [
    {
     "data": {
      "text/plain": [
       "0"
      ]
     },
     "execution_count": 10,
     "metadata": {},
     "output_type": "execute_result"
    }
   ],
   "source": [
    "'once upon a time there was a village named Shankarpur ,once upon a programmer'\n",
    "story.index('once')"
   ]
  },
  {
   "cell_type": "code",
   "execution_count": 24,
   "metadata": {},
   "outputs": [
    {
     "data": {
      "text/plain": [
       "60"
      ]
     },
     "execution_count": 24,
     "metadata": {},
     "output_type": "execute_result"
    }
   ],
   "source": [
    "story='once upon a time there was a village named Shankarpur ,once upon a village'\n",
    "story.index('upon',6)"
   ]
  },
  {
   "cell_type": "code",
   "execution_count": 20,
   "metadata": {},
   "outputs": [
    {
     "data": {
      "text/plain": [
       "60"
      ]
     },
     "execution_count": 20,
     "metadata": {},
     "output_type": "execute_result"
    }
   ],
   "source": [
    "story='once upon a time there was a village named Shankarpur ,once upon a programmer'\n",
    "story.rfind('upon')"
   ]
  },
  {
   "cell_type": "code",
   "execution_count": 21,
   "metadata": {},
   "outputs": [
    {
     "name": "stdout",
     "output_type": "stream",
     "text": [
      "ifound at13\n",
      "ifound at30\n"
     ]
    }
   ],
   "source": [
    "#search and display all index of a searched word\n",
    "start=0\n",
    "q='i'\n",
    "while True:\n",
    "    idx=story.lower().find(q,start)\n",
    "    if idx==-1:\n",
    "        break\n",
    "    print(f'{q}found at{idx}')\n",
    "    start=idx+1"
   ]
  },
  {
   "cell_type": "code",
   "execution_count": 22,
   "metadata": {},
   "outputs": [
    {
     "name": "stdout",
     "output_type": "stream",
     "text": [
      "onfound at0\n",
      "onfound at7\n",
      "onfound at55\n",
      "onfound at62\n"
     ]
    }
   ],
   "source": [
    "start=0\n",
    "q='on'\n",
    "while True:\n",
    "    idx=story.lower().find(q,start)\n",
    "    if idx==-1:\n",
    "        break\n",
    "    print(f'{q}found at{idx}')\n",
    "    start=idx+1"
   ]
  },
  {
   "cell_type": "code",
   "execution_count": 25,
   "metadata": {},
   "outputs": [
    {
     "data": {
      "text/plain": [
       "'once upon a time there was a town named Shankarpur ,once upon a town'"
      ]
     },
     "execution_count": 25,
     "metadata": {},
     "output_type": "execute_result"
    }
   ],
   "source": [
    "story.replace('village','town')"
   ]
  },
  {
   "cell_type": "code",
   "execution_count": 27,
   "metadata": {},
   "outputs": [
    {
     "data": {
      "text/plain": [
       "'once upon a time there was a town named Shankarpur ,once upon a village'"
      ]
     },
     "execution_count": 27,
     "metadata": {},
     "output_type": "execute_result"
    }
   ],
   "source": [
    "story.replace('village','town',1)"
   ]
  },
  {
   "cell_type": "code",
   "execution_count": 35,
   "metadata": {},
   "outputs": [
    {
     "name": "stdout",
     "output_type": "stream",
     "text": [
      "nc upn  tm thr ws  vllg nmd Shnkrpur ,nc upn  vllg\n"
     ]
    }
   ],
   "source": [
    "story=story.replace('a','')\n",
    "story=story.replace('e','')\n",
    "story=story.replace('i','')\n",
    "story=story.replace('o','')\n",
    "print(story)"
   ]
  },
  {
   "cell_type": "code",
   "execution_count": 41,
   "metadata": {},
   "outputs": [
    {
     "name": "stdout",
     "output_type": "stream",
     "text": [
      "nc pn  tm thr ws  twn nmd Shnkrpr ,nc pn  twn\n"
     ]
    }
   ],
   "source": [
    "for vowel in'aeiou':\n",
    "\n",
    "    story=story.replace(vowel,'')\n",
    "print(story)"
   ]
  },
  {
   "cell_type": "code",
   "execution_count": 42,
   "metadata": {},
   "outputs": [
    {
     "name": "stdout",
     "output_type": "stream",
     "text": [
      "            amisha            \n"
     ]
    }
   ],
   "source": [
    "name=\"amisha\"\n",
    "name_expanded=name.center(30)\n",
    "print(name_expanded)"
   ]
  },
  {
   "cell_type": "code",
   "execution_count": 43,
   "metadata": {},
   "outputs": [
    {
     "data": {
      "text/plain": [
       "'amisha'"
      ]
     },
     "execution_count": 43,
     "metadata": {},
     "output_type": "execute_result"
    }
   ],
   "source": [
    "name_expanded.strip()"
   ]
  },
  {
   "cell_type": "code",
   "execution_count": 45,
   "metadata": {},
   "outputs": [
    {
     "data": {
      "text/plain": [
       "'amisha            '"
      ]
     },
     "execution_count": 45,
     "metadata": {},
     "output_type": "execute_result"
    }
   ],
   "source": [
    "name_expanded.lstrip()"
   ]
  },
  {
   "cell_type": "code",
   "execution_count": 46,
   "metadata": {},
   "outputs": [
    {
     "data": {
      "text/plain": [
       "'            amisha'"
      ]
     },
     "execution_count": 46,
     "metadata": {},
     "output_type": "execute_result"
    }
   ],
   "source": [
    "name_expanded.rstrip()"
   ]
  },
  {
   "cell_type": "code",
   "execution_count": null,
   "metadata": {},
   "outputs": [],
   "source": []
  }
 ],
 "metadata": {
  "kernelspec": {
   "display_name": "Python 3.10.2 64-bit",
   "language": "python",
   "name": "python3"
  },
  "language_info": {
   "codemirror_mode": {
    "name": "ipython",
    "version": 3
   },
   "file_extension": ".py",
   "mimetype": "text/x-python",
   "name": "python",
   "nbconvert_exporter": "python",
   "pygments_lexer": "ipython3",
   "version": "3.10.2"
  },
  "orig_nbformat": 4,
  "vscode": {
   "interpreter": {
    "hash": "f2ccb58c476f33ba3e3aee7ac07234ef6b8217ef24ad64d2a7d4fed1a57c1cd2"
   }
  }
 },
 "nbformat": 4,
 "nbformat_minor": 2
}
