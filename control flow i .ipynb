{
 "cells": [
  {
   "cell_type": "code",
   "execution_count": 6,
   "metadata": {},
   "outputs": [
    {
     "name": "stdout",
     "output_type": "stream",
     "text": [
      "you see a mango seller\n",
      "i want 2 kg mangoes\n"
     ]
    }
   ],
   "source": [
    "print('you see a mango seller')\n",
    "q=input('do you like mangoes')\n",
    "if q=='yes':\n",
    "    print('i want 2 kg mangoes')\n",
    "if q=='no':\n",
    "    print('i dont want mangoes')"
   ]
  },
  {
   "cell_type": "code",
   "execution_count": 1,
   "metadata": {},
   "outputs": [
    {
     "name": "stdout",
     "output_type": "stream",
     "text": [
      "you see a mango seller\n",
      "i dont want mangoes\n"
     ]
    }
   ],
   "source": [
    "print('you see a mango seller')\n",
    "q=input('do you like mangoes')\n",
    "if q=='yes':\n",
    "    print('i want 2 kg mangoes')\n",
    "if q=='no':\n",
    "    print('i dont want mangoes')"
   ]
  },
  {
   "cell_type": "code",
   "execution_count": 13,
   "metadata": {},
   "outputs": [
    {
     "name": "stdout",
     "output_type": "stream",
     "text": [
      "x is greater than 10\n",
      " hello world\n",
      "the value is 10\n"
     ]
    }
   ],
   "source": [
    "x=11\n",
    "if x>10:\n",
    " print(\"x is greater than 10\")\n",
    " print(\" hello world\")\n",
    "print('the value is 10')"
   ]
  },
  {
   "cell_type": "code",
   "execution_count": 14,
   "metadata": {},
   "outputs": [
    {
     "name": "stdout",
     "output_type": "stream",
     "text": [
      "the value is 10\n"
     ]
    }
   ],
   "source": [
    "x=5\n",
    "if x>10:\n",
    " print(\"x is greater than 10\")\n",
    " print(\" hello world\")\n",
    "print('the value is 10')"
   ]
  },
  {
   "cell_type": "code",
   "execution_count": 6,
   "metadata": {},
   "outputs": [
    {
     "name": "stdout",
     "output_type": "stream",
     "text": [
      "x is greater than y\n",
      "y is greater than x\n",
      "y is smaller than 6 also\n",
      "why y is smaller\n"
     ]
    }
   ],
   "source": [
    "x=8\n",
    "y=7\n",
    "if x>y:\n",
    "    print(\"x is greater than y\")\n",
    "    print(\"y is greater than x\")\n",
    "\n",
    "if y>6:\n",
    "    print('y is smaller than 6 also')    \n",
    "    print(\"why y is smaller\")\n",
    "\n",
    "if y==4:\n",
    " print(\"y is 4\")\n",
    " print(\"its time to make y greater\")\n",
    " y=y+x"
   ]
  },
  {
   "cell_type": "code",
   "execution_count": 15,
   "metadata": {},
   "outputs": [
    {
     "name": "stdout",
     "output_type": "stream",
     "text": [
      "the value of x is greater\n"
     ]
    }
   ],
   "source": [
    "x=10\n",
    "if x>5:\n",
    "    print(\"the value of x is greater\")\n",
    "else:\n",
    "    print(\"check again\")    "
   ]
  },
  {
   "cell_type": "code",
   "execution_count": 16,
   "metadata": {},
   "outputs": [
    {
     "name": "stdout",
     "output_type": "stream",
     "text": [
      "check again\n"
     ]
    }
   ],
   "source": [
    "x=4\n",
    "if x>5:\n",
    "    print(\"the value of x is greater\")\n",
    "else:\n",
    "    print(\"check again\")    "
   ]
  },
  {
   "cell_type": "code",
   "execution_count": 17,
   "metadata": {},
   "outputs": [
    {
     "name": "stdout",
     "output_type": "stream",
     "text": [
      "42\n"
     ]
    }
   ],
   "source": [
    "if 42 in range(100):print(\"42\")"
   ]
  },
  {
   "cell_type": "code",
   "execution_count": 23,
   "metadata": {},
   "outputs": [
    {
     "name": "stdout",
     "output_type": "stream",
     "text": [
      "alice\n"
     ]
    }
   ],
   "source": [
    "x=\"alice\" if  \"jon\" in \"my name is jones\"  else \"bob\"\n",
    "print(x)"
   ]
  },
  {
   "cell_type": "code",
   "execution_count": 9,
   "metadata": {},
   "outputs": [
    {
     "name": "stdout",
     "output_type": "stream",
     "text": [
      "wear long pant\n",
      "get some exercise outside\n"
     ]
    }
   ],
   "source": [
    "temp=float(input('what is the temp'))\n",
    "if temp>70:\n",
    "    print(\"wear shorts\")\n",
    "\n",
    "else:\n",
    "    print('wear long pant')\n",
    "print(\"get some exercise outside\")   \n"
   ]
  },
  {
   "cell_type": "markdown",
   "metadata": {},
   "source": [
    "ifelif statement\n",
    "when marks=60"
   ]
  },
  {
   "cell_type": "code",
   "execution_count": 13,
   "metadata": {},
   "outputs": [
    {
     "name": "stdout",
     "output_type": "stream",
     "text": [
      "C\n"
     ]
    }
   ],
   "source": [
    "marks=int(input('maths marks'))\n",
    "if marks>=90:\n",
    " letter='A'\n",
    "elif marks>=80:\n",
    "    letter='B'\n",
    "\n",
    "elif marks>=50:\n",
    "    letter='C'   \n",
    "else:\n",
    "    letter='F'\n",
    "\n",
    "print (letter)"
   ]
  },
  {
   "cell_type": "markdown",
   "metadata": {},
   "source": [
    "when marks =40"
   ]
  },
  {
   "cell_type": "code",
   "execution_count": 14,
   "metadata": {},
   "outputs": [
    {
     "name": "stdout",
     "output_type": "stream",
     "text": [
      "F\n"
     ]
    }
   ],
   "source": [
    "marks=int(input('maths marks'))\n",
    "if marks>=90:\n",
    " letter='A'\n",
    "elif marks>=80:\n",
    "    letter='B'\n",
    "\n",
    "elif marks>=50:\n",
    "    letter='C'   \n",
    "else:\n",
    "    letter='F'\n",
    "\n",
    "print (letter)"
   ]
  },
  {
   "cell_type": "code",
   "execution_count": null,
   "metadata": {},
   "outputs": [],
   "source": []
  },
  {
   "cell_type": "code",
   "execution_count": null,
   "metadata": {},
   "outputs": [],
   "source": []
  }
 ],
 "metadata": {
  "kernelspec": {
   "display_name": "Python 3.10.2 64-bit",
   "language": "python",
   "name": "python3"
  },
  "language_info": {
   "codemirror_mode": {
    "name": "ipython",
    "version": 3
   },
   "file_extension": ".py",
   "mimetype": "text/x-python",
   "name": "python",
   "nbconvert_exporter": "python",
   "pygments_lexer": "ipython3",
   "version": "3.10.2"
  },
  "orig_nbformat": 4,
  "vscode": {
   "interpreter": {
    "hash": "f2ccb58c476f33ba3e3aee7ac07234ef6b8217ef24ad64d2a7d4fed1a57c1cd2"
   }
  }
 },
 "nbformat": 4,
 "nbformat_minor": 2
}
