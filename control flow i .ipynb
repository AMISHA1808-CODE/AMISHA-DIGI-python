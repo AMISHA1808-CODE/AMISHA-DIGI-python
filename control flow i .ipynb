{
 "cells": [
  {
   "cell_type": "code",
   "execution_count": 6,
   "metadata": {},
   "outputs": [
    {
     "name": "stdout",
     "output_type": "stream",
     "text": [
      "you see a mango seller\n",
      "i want 2 kg mangoes\n"
     ]
    }
   ],
   "source": [
    "print('you see a mango seller')\n",
    "q=input('do you like mangoes')\n",
    "if q=='yes':\n",
    "    print('i want 2 kg mangoes')\n",
    "if q=='no':\n",
    "    print('i dont want mangoes')"
   ]
  },
  {
   "cell_type": "code",
   "execution_count": 1,
   "metadata": {},
   "outputs": [
    {
     "name": "stdout",
     "output_type": "stream",
     "text": [
      "you see a mango seller\n",
      "i dont want mangoes\n"
     ]
    }
   ],
   "source": [
    "print('you see a mango seller')\n",
    "q=input('do you like mangoes')\n",
    "if q=='yes':\n",
    "    print('i want 2 kg mangoes')\n",
    "if q=='no':\n",
    "    print('i dont want mangoes')"
   ]
  },
  {
   "cell_type": "code",
   "execution_count": 13,
   "metadata": {},
   "outputs": [
    {
     "name": "stdout",
     "output_type": "stream",
     "text": [
      "x is greater than 10\n",
      " hello world\n",
      "the value is 10\n"
     ]
    }
   ],
   "source": [
    "x=11\n",
    "if x>10:\n",
    " print(\"x is greater than 10\")\n",
    " print(\" hello world\")\n",
    "print('the value is 10')"
   ]
  },
  {
   "cell_type": "code",
   "execution_count": 14,
   "metadata": {},
   "outputs": [
    {
     "name": "stdout",
     "output_type": "stream",
     "text": [
      "the value is 10\n"
     ]
    }
   ],
   "source": [
    "x=5\n",
    "if x>10:\n",
    " print(\"x is greater than 10\")\n",
    " print(\" hello world\")\n",
    "print('the value is 10')"
   ]
  },
  {
   "cell_type": "code",
   "execution_count": 6,
   "metadata": {},
   "outputs": [
    {
     "name": "stdout",
     "output_type": "stream",
     "text": [
      "x is greater than y\n",
      "y is greater than x\n",
      "y is smaller than 6 also\n",
      "why y is smaller\n"
     ]
    }
   ],
   "source": [
    "x=8\n",
    "y=7\n",
    "if x>y:\n",
    "    print(\"x is greater than y\")\n",
    "    print(\"y is greater than x\")\n",
    "\n",
    "if y>6:\n",
    "    print('y is smaller than 6 also')    \n",
    "    print(\"why y is smaller\")\n",
    "\n",
    "if y==4:\n",
    " print(\"y is 4\")\n",
    " print(\"its time to make y greater\")\n",
    " y=y+x"
   ]
  },
  {
   "cell_type": "code",
   "execution_count": 15,
   "metadata": {},
   "outputs": [
    {
     "name": "stdout",
     "output_type": "stream",
     "text": [
      "the value of x is greater\n"
     ]
    }
   ],
   "source": [
    "x=10\n",
    "if x>5:\n",
    "    print(\"the value of x is greater\")\n",
    "else:\n",
    "    print(\"check again\")    "
   ]
  },
  {
   "cell_type": "code",
   "execution_count": 16,
   "metadata": {},
   "outputs": [
    {
     "name": "stdout",
     "output_type": "stream",
     "text": [
      "check again\n"
     ]
    }
   ],
   "source": [
    "x=4\n",
    "if x>5:\n",
    "    print(\"the value of x is greater\")\n",
    "else:\n",
    "    print(\"check again\")    "
   ]
  },
  {
   "cell_type": "code",
   "execution_count": 17,
   "metadata": {},
   "outputs": [
    {
     "name": "stdout",
     "output_type": "stream",
     "text": [
      "42\n"
     ]
    }
   ],
   "source": [
    "if 42 in range(100):print(\"42\")"
   ]
  },
  {
   "cell_type": "code",
   "execution_count": 23,
   "metadata": {},
   "outputs": [
    {
     "name": "stdout",
     "output_type": "stream",
     "text": [
      "alice\n"
     ]
    }
   ],
   "source": [
    "x=\"alice\" if  \"jon\" in \"my name is jones\"  else \"bob\"\n",
    "print(x)"
   ]
  },
  {
   "cell_type": "code",
   "execution_count": 9,
   "metadata": {},
   "outputs": [
    {
     "name": "stdout",
     "output_type": "stream",
     "text": [
      "wear long pant\n",
      "get some exercise outside\n"
     ]
    }
   ],
   "source": [
    "temp=float(input('what is the temp'))\n",
    "if temp>70:\n",
    "    print(\"wear shorts\")\n",
    "\n",
    "else:\n",
    "    print('wear long pant')\n",
    "print(\"get some exercise outside\")   \n"
   ]
  },
  {
   "cell_type": "markdown",
   "metadata": {},
   "source": [
    "ifelif statement\n",
    "when marks=60"
   ]
  },
  {
   "cell_type": "code",
   "execution_count": 13,
   "metadata": {},
   "outputs": [
    {
     "name": "stdout",
     "output_type": "stream",
     "text": [
      "C\n"
     ]
    }
   ],
   "source": [
    "marks=int(input('maths marks'))\n",
    "if marks>=90:\n",
    " letter='A'\n",
    "elif marks>=80:\n",
    "    letter='B'\n",
    "\n",
    "elif marks>=50:\n",
    "    letter='C'   \n",
    "else:\n",
    "    letter='F'\n",
    "\n",
    "print (letter)"
   ]
  },
  {
   "cell_type": "markdown",
   "metadata": {},
   "source": [
    "when marks =40"
   ]
  },
  {
   "cell_type": "code",
   "execution_count": 14,
   "metadata": {},
   "outputs": [
    {
     "name": "stdout",
     "output_type": "stream",
     "text": [
      "F\n"
     ]
    }
   ],
   "source": [
    "marks=int(input('maths marks'))\n",
    "if marks>=90:\n",
    " letter='A'\n",
    "elif marks>=80:\n",
    "    letter='B'\n",
    "\n",
    "elif marks>=50:\n",
    "    letter='C'   \n",
    "else:\n",
    "    letter='F'\n",
    "\n",
    "print (letter)"
   ]
  },
  {
   "cell_type": "markdown",
   "metadata": {},
   "source": []
  },
  {
   "cell_type": "code",
   "execution_count": 15,
   "metadata": {},
   "outputs": [
    {
     "name": "stdout",
     "output_type": "stream",
     "text": [
      "stop\n"
     ]
    }
   ],
   "source": [
    "x=5\n",
    "while x<5:\n",
    "    print('run')\n",
    "\n",
    "x+=1\n",
    "print(\"stop\")\n"
   ]
  },
  {
   "cell_type": "code",
   "execution_count": 19,
   "metadata": {},
   "outputs": [
    {
     "name": "stdout",
     "output_type": "stream",
     "text": [
      "the sum is  1\n",
      "the sum is  3\n",
      "the sum is  6\n",
      "the sum is  10\n",
      "the sum is  15\n"
     ]
    }
   ],
   "source": [
    "n=5\n",
    "sum=0\n",
    "i=1\n",
    "while i<=n:\n",
    "    sum=sum+i\n",
    "    i=i+1\n",
    "    print(\"the sum is \",sum)    \n"
   ]
  },
  {
   "cell_type": "code",
   "execution_count": 1,
   "metadata": {},
   "outputs": [
    {
     "ename": "NameError",
     "evalue": "name 'num' is not defined",
     "output_type": "error",
     "traceback": [
      "\u001b[1;31m---------------------------------------------------------------------------\u001b[0m",
      "\u001b[1;31mNameError\u001b[0m                                 Traceback (most recent call last)",
      "\u001b[1;32mc:\\Users\\LENOVO\\OneDrive\\Documents\\AMISHA DIGI\\control flow i .ipynb Cell 18\u001b[0m in \u001b[0;36m<cell line: 4>\u001b[1;34m()\u001b[0m\n\u001b[0;32m      <a href='vscode-notebook-cell:/c%3A/Users/LENOVO/OneDrive/Documents/AMISHA%20DIGI/control%20flow%20i%20.ipynb#ch0000029?line=3'>4</a>\u001b[0m \u001b[39mwhile\u001b[39;00m i\u001b[39m<\u001b[39m\u001b[39m=\u001b[39mn:\n\u001b[0;32m      <a href='vscode-notebook-cell:/c%3A/Users/LENOVO/OneDrive/Documents/AMISHA%20DIGI/control%20flow%20i%20.ipynb#ch0000029?line=4'>5</a>\u001b[0m     \u001b[39msum\u001b[39m\u001b[39m=\u001b[39m\u001b[39msum\u001b[39m\u001b[39m+\u001b[39mi\n\u001b[1;32m----> <a href='vscode-notebook-cell:/c%3A/Users/LENOVO/OneDrive/Documents/AMISHA%20DIGI/control%20flow%20i%20.ipynb#ch0000029?line=5'>6</a>\u001b[0m     num\u001b[39m=\u001b[39mnum\u001b[39m+\u001b[39m\u001b[39m1\u001b[39m\n\u001b[0;32m      <a href='vscode-notebook-cell:/c%3A/Users/LENOVO/OneDrive/Documents/AMISHA%20DIGI/control%20flow%20i%20.ipynb#ch0000029?line=6'>7</a>\u001b[0m     \u001b[39mprint\u001b[39m(\u001b[39m\"\u001b[39m\u001b[39mthe sum is \u001b[39m\u001b[39m\"\u001b[39m,\u001b[39msum\u001b[39m)\n",
      "\u001b[1;31mNameError\u001b[0m: name 'num' is not defined"
     ]
    }
   ],
   "source": [
    "n=5\n",
    "sum=0\n",
    "i=1\n",
    "while i<=n:\n",
    "    sum=sum+i\n",
    "    n=n+1\n",
    "    print(\"the sum is \",sum)    "
   ]
  },
  {
   "cell_type": "code",
   "execution_count": 21,
   "metadata": {},
   "outputs": [
    {
     "name": "stdout",
     "output_type": "stream",
     "text": [
      "1\n",
      "2\n",
      "3\n",
      "4\n",
      "0\n",
      "5\n",
      "6\n",
      "0\n",
      "8\n"
     ]
    }
   ],
   "source": [
    "a=[1,2,3,4,0,5,6,0,8]\n",
    "for i in a:\n",
    "    print(i)"
   ]
  },
  {
   "cell_type": "code",
   "execution_count": 7,
   "metadata": {},
   "outputs": [
    {
     "name": "stdout",
     "output_type": "stream",
     "text": [
      "1\n",
      "2\n",
      "3\n",
      "4\n",
      "5\n",
      "6\n",
      "8\n"
     ]
    }
   ],
   "source": [
    "a=[1,2,3,4,0,5,6,0,8]\n",
    "for i in a:\n",
    " if i==0:\n",
    "    continue\n",
    " print(i)\n",
    "     \n",
    " \n",
    "    "
   ]
  },
  {
   "cell_type": "code",
   "execution_count": 2,
   "metadata": {},
   "outputs": [
    {
     "name": "stdout",
     "output_type": "stream",
     "text": [
      "2\n",
      "4\n",
      "6\n",
      "8\n",
      "10\n",
      "12\n",
      "16\n"
     ]
    }
   ],
   "source": [
    "a=[1,2,3,4,0,5,6,0,8]\n",
    "for i in a:\n",
    " if i!=0:\n",
    "    print(i*2)"
   ]
  },
  {
   "cell_type": "code",
   "execution_count": 4,
   "metadata": {},
   "outputs": [
    {
     "name": "stdout",
     "output_type": "stream",
     "text": [
      "2\n",
      "4\n",
      "6\n",
      "8\n"
     ]
    }
   ],
   "source": [
    "\n",
    "for i in range(1,5):\n",
    " if i!=0:\n",
    "    print(i*2)"
   ]
  },
  {
   "cell_type": "code",
   "execution_count": 17,
   "metadata": {},
   "outputs": [
    {
     "name": "stdout",
     "output_type": "stream",
     "text": [
      "1\n",
      "2\n",
      "3\n",
      "4\n",
      "5\n",
      "6\n",
      "7\n",
      "8\n",
      "9\n"
     ]
    }
   ],
   "source": [
    "x=1\n",
    "while x<10:\n",
    "     print(x)\n",
    "     x+=1"
   ]
  },
  {
   "cell_type": "code",
   "execution_count": 13,
   "metadata": {},
   "outputs": [
    {
     "name": "stdout",
     "output_type": "stream",
     "text": [
      "the value of i is 1\n",
      "the value of i is 4\n",
      "the value of i is 7\n",
      "the value of i is 10\n"
     ]
    }
   ],
   "source": [
    "\n",
    "i=1\n",
    "while i<=10:\n",
    "    print(\"the value of i is\",i)\n",
    "    i+=3"
   ]
  },
  {
   "cell_type": "code",
   "execution_count": 11,
   "metadata": {},
   "outputs": [
    {
     "name": "stdout",
     "output_type": "stream",
     "text": [
      "16\n"
     ]
    }
   ],
   "source": [
    "i=8\n",
    "i*=2\n",
    "print(i)"
   ]
  },
  {
   "cell_type": "code",
   "execution_count": 17,
   "metadata": {},
   "outputs": [
    {
     "name": "stdout",
     "output_type": "stream",
     "text": [
      "2.8284271247461903\n"
     ]
    }
   ],
   "source": [
    "i=8\n",
    "i**=0.5\n",
    "print(i)"
   ]
  },
  {
   "cell_type": "code",
   "execution_count": 6,
   "metadata": {},
   "outputs": [
    {
     "name": "stdout",
     "output_type": "stream",
     "text": [
      "we have apple\n",
      "we have banana\n",
      "we have grapes\n",
      "thats all\n"
     ]
    }
   ],
   "source": [
    "fruits=['apple','banana','grapes']\n",
    "for fruit in fruits:\n",
    "    print(\"we have\",fruit)\n",
    "else:\n",
    "    print(\"thats all\")"
   ]
  },
  {
   "cell_type": "code",
   "execution_count": null,
   "metadata": {},
   "outputs": [],
   "source": []
  },
  {
   "cell_type": "code",
   "execution_count": null,
   "metadata": {},
   "outputs": [],
   "source": [
    "  "
   ]
  },
  {
   "cell_type": "code",
   "execution_count": null,
   "metadata": {},
   "outputs": [],
   "source": []
  }
 ],
 "metadata": {
  "kernelspec": {
   "display_name": "Python 3.10.2 64-bit",
   "language": "python",
   "name": "python3"
  },
  "language_info": {
   "codemirror_mode": {
    "name": "ipython",
    "version": 3
   },
   "file_extension": ".py",
   "mimetype": "text/x-python",
   "name": "python",
   "nbconvert_exporter": "python",
   "pygments_lexer": "ipython3",
   "version": "3.10.2"
  },
  "orig_nbformat": 4,
  "vscode": {
   "interpreter": {
    "hash": "f2ccb58c476f33ba3e3aee7ac07234ef6b8217ef24ad64d2a7d4fed1a57c1cd2"
   }
  }
 },
 "nbformat": 4,
 "nbformat_minor": 2
}
